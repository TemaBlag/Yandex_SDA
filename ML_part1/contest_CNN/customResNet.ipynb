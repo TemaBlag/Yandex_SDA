{
  "cells": [
    {
      "cell_type": "code",
      "source": [
        "import torch\n",
        "import numpy as np\n",
        "\n",
        "from torchvision.datasets import MNIST\n",
        "import torchvision.transforms.v2 as T\n",
        "import matplotlib.pyplot as plt"
      ],
      "metadata": {
        "id": "buGaADqMvg16"
      },
      "execution_count": 29,
      "outputs": []
    },
    {
      "cell_type": "code",
      "source": [
        "mnist_train = MNIST('../datasets/mnist', transform=T.Compose([T.ToImage(), T.ToDtype(torch.float32, scale=True)]), download=True)"
      ],
      "metadata": {
        "id": "UoT6faQhvzyG"
      },
      "execution_count": null,
      "outputs": []
    },
    {
      "cell_type": "code",
      "source": [
        "mnist_train.data = mnist_train.data.unsqueeze(1)"
      ],
      "metadata": {
        "id": "DDcs5SSPGUpt"
      },
      "execution_count": null,
      "outputs": []
    },
    {
      "cell_type": "code",
      "source": [
        "mnist_train.data.shape"
      ],
      "metadata": {
        "colab": {
          "base_uri": "https://localhost:8080/"
        },
        "id": "PhO744Khv1qb",
        "outputId": "c521367c-2723-4397-e42d-8f051dffd88c"
      },
      "execution_count": null,
      "outputs": [
        {
          "output_type": "execute_result",
          "data": {
            "text/plain": [
              "torch.Size([60000, 1, 28, 28])"
            ]
          },
          "metadata": {},
          "execution_count": 5
        }
      ]
    },
    {
      "cell_type": "code",
      "source": [
        "answers = mnist_train.targets"
      ],
      "metadata": {
        "id": "Ts2wWVYe6xBg"
      },
      "execution_count": null,
      "outputs": []
    },
    {
      "cell_type": "code",
      "source": [
        "answers.unique()"
      ],
      "metadata": {
        "colab": {
          "base_uri": "https://localhost:8080/"
        },
        "id": "zBqQw_R79wLV",
        "outputId": "5c4dcb6d-0fbb-4345-9333-c414342b076e"
      },
      "execution_count": null,
      "outputs": [
        {
          "output_type": "execute_result",
          "data": {
            "text/plain": [
              "tensor([0, 1, 2, 3, 4, 5, 6, 7, 8, 9])"
            ]
          },
          "metadata": {},
          "execution_count": 7
        }
      ]
    },
    {
      "cell_type": "code",
      "source": [
        "mean = mnist_train.data.to(torch.float32).mean().item() / 255\n",
        "std = mnist_train.data.to(torch.float32).std().item() / 255\n",
        "normalize = T.Normalize(mean=(mean,), std=(std,))\n",
        "normalize_mnist_train = normalize(mnist_train.data.to(torch.float32) / 255)"
      ],
      "metadata": {
        "id": "SvGv7hpoV7Ly"
      },
      "execution_count": null,
      "outputs": []
    },
    {
      "cell_type": "code",
      "source": [
        "mean = mnist_train.data.to(torch.float32).mean().item() / 255\n",
        "mean"
      ],
      "metadata": {
        "colab": {
          "base_uri": "https://localhost:8080/"
        },
        "id": "vnoy3A02v1tA",
        "outputId": "5b60d57a-01f3-47f5-d459-bceeec283447"
      },
      "execution_count": null,
      "outputs": [
        {
          "output_type": "execute_result",
          "data": {
            "text/plain": [
              "0.13066047219669116"
            ]
          },
          "metadata": {},
          "execution_count": 9
        }
      ]
    },
    {
      "cell_type": "code",
      "source": [
        "std = mnist_train.data.to(torch.float32).std().item() / 255\n",
        "std"
      ],
      "metadata": {
        "colab": {
          "base_uri": "https://localhost:8080/"
        },
        "id": "BF4wYzDav1v2",
        "outputId": "f4c11831-480c-4b14-f158-730d4a429f72"
      },
      "execution_count": null,
      "outputs": [
        {
          "output_type": "execute_result",
          "data": {
            "text/plain": [
              "0.30810780244715075"
            ]
          },
          "metadata": {},
          "execution_count": 10
        }
      ]
    },
    {
      "cell_type": "code",
      "source": [
        "normalize = T.Normalize(mean=(mean,), std=(std,))"
      ],
      "metadata": {
        "id": "AY5xhTPNv1yQ"
      },
      "execution_count": null,
      "outputs": []
    },
    {
      "cell_type": "code",
      "source": [
        "normalize_mnist_train = normalize(mnist_train.data.to(torch.float32) / 255)"
      ],
      "metadata": {
        "id": "y-ChUk1U5XN5"
      },
      "execution_count": null,
      "outputs": []
    },
    {
      "cell_type": "code",
      "source": [
        "from sklearn.model_selection import train_test_split"
      ],
      "metadata": {
        "id": "5ZLls5Fw7Gnw"
      },
      "execution_count": null,
      "outputs": []
    },
    {
      "cell_type": "code",
      "source": [
        "X_train, X_val, y_train, y_val = train_test_split(normalize_mnist_train, answers, test_size=0.2, shuffle=True)"
      ],
      "metadata": {
        "id": "MHczaHQw7P5h"
      },
      "execution_count": null,
      "outputs": []
    },
    {
      "cell_type": "code",
      "source": [
        "from torch.utils.data import TensorDataset\n",
        "X_train_tensor = torch.tensor(X_train, dtype=torch.float32)\n",
        "y_train_tensor = torch.tensor(y_train, dtype=torch.long)\n",
        "X_val_tensor = torch.tensor(X_val, dtype=torch.float32)\n",
        "y_val_tensor = torch.tensor(y_val, dtype=torch.long)\n",
        "train_dataset = TensorDataset(X_train_tensor, y_train_tensor)\n",
        "valid_dataset = TensorDataset(X_val_tensor, y_val_tensor)"
      ],
      "metadata": {
        "colab": {
          "base_uri": "https://localhost:8080/"
        },
        "id": "oacj4y1l9AOU",
        "outputId": "8307e6b8-6474-4740-dd4f-a9b11ca6ebe0"
      },
      "execution_count": null,
      "outputs": [
        {
          "output_type": "stream",
          "name": "stderr",
          "text": [
            "<ipython-input-15-653e0577d639>:2: UserWarning: To copy construct from a tensor, it is recommended to use sourceTensor.clone().detach() or sourceTensor.clone().detach().requires_grad_(True), rather than torch.tensor(sourceTensor).\n",
            "  X_train_tensor = torch.tensor(X_train, dtype=torch.float32)\n",
            "<ipython-input-15-653e0577d639>:3: UserWarning: To copy construct from a tensor, it is recommended to use sourceTensor.clone().detach() or sourceTensor.clone().detach().requires_grad_(True), rather than torch.tensor(sourceTensor).\n",
            "  y_train_tensor = torch.tensor(y_train, dtype=torch.long)\n",
            "<ipython-input-15-653e0577d639>:4: UserWarning: To copy construct from a tensor, it is recommended to use sourceTensor.clone().detach() or sourceTensor.clone().detach().requires_grad_(True), rather than torch.tensor(sourceTensor).\n",
            "  X_val_tensor = torch.tensor(X_val, dtype=torch.float32)\n",
            "<ipython-input-15-653e0577d639>:5: UserWarning: To copy construct from a tensor, it is recommended to use sourceTensor.clone().detach() or sourceTensor.clone().detach().requires_grad_(True), rather than torch.tensor(sourceTensor).\n",
            "  y_val_tensor = torch.tensor(y_val, dtype=torch.long)\n"
          ]
        }
      ]
    },
    {
      "cell_type": "code",
      "source": [
        "train_dataset.tensors[0].shape"
      ],
      "metadata": {
        "colab": {
          "base_uri": "https://localhost:8080/"
        },
        "id": "DvV20GRiES2e",
        "outputId": "3d6257f7-c2a5-499b-f443-060c9c67edaa"
      },
      "execution_count": null,
      "outputs": [
        {
          "output_type": "execute_result",
          "data": {
            "text/plain": [
              "torch.Size([48000, 1, 28, 28])"
            ]
          },
          "metadata": {},
          "execution_count": 16
        }
      ]
    },
    {
      "cell_type": "code",
      "source": [
        "from torch.utils.data import DataLoader\n",
        "\n",
        "\n",
        "train_loader = DataLoader(train_dataset, batch_size=64, shuffle=True, num_workers=8, pin_memory=True)\n",
        "valid_loader = DataLoader(valid_dataset, batch_size=64, shuffle=False, num_workers=8, pin_memory=True)"
      ],
      "metadata": {
        "id": "5aeJ_0JS5QJe",
        "colab": {
          "base_uri": "https://localhost:8080/"
        },
        "outputId": "0b6ff780-0f1e-48e8-d4f7-a10c7087beb3"
      },
      "execution_count": null,
      "outputs": [
        {
          "output_type": "stream",
          "name": "stderr",
          "text": [
            "/usr/local/lib/python3.10/dist-packages/torch/utils/data/dataloader.py:617: UserWarning: This DataLoader will create 8 worker processes in total. Our suggested max number of worker in current system is 2, which is smaller than what this DataLoader is going to create. Please be aware that excessive worker creation might get DataLoader running slow or even freeze, lower the worker number to avoid potential slowness/freeze if necessary.\n",
            "  warnings.warn(\n"
          ]
        }
      ]
    },
    {
      "cell_type": "code",
      "source": [
        "import torch.nn as nn\n",
        "from torch.utils.data import DataLoader\n",
        "from torch.optim import Optimizer\n",
        "from tqdm import tqdm\n",
        "\n",
        "\n",
        "def train(model: nn.Module, data_loader: DataLoader, optimizer: Optimizer, loss_fn, device: torch.device):\n",
        "    model.train()\n",
        "    total_loss, total_correct = 0, 0\n",
        "\n",
        "    for x, y in tqdm(data_loader):\n",
        "        x, y = x.to(device), y.to(device)\n",
        "        optimizer.zero_grad()\n",
        "        output = model(x)\n",
        "        loss = loss_fn(output, y)\n",
        "        loss.backward()\n",
        "        total_loss += loss.item()\n",
        "        total_correct += (output.argmax(dim=1) == y).sum().item()\n",
        "        optimizer.step()\n",
        "\n",
        "    return total_loss / len(data_loader), total_correct / len(data_loader.dataset)"
      ],
      "metadata": {
        "id": "9kcc5E5Iv13d"
      },
      "execution_count": 14,
      "outputs": []
    },
    {
      "cell_type": "code",
      "source": [
        "import torch\n",
        "import torch.nn as nn\n",
        "from torch.utils.data import DataLoader\n",
        "\n",
        "\n",
        "@torch.inference_mode()\n",
        "def evaluate(model: nn.Module, data_loader: DataLoader, loss_fn, device: torch.device):\n",
        "    model.eval()\n",
        "    total_loss, total_correct = 0, 0\n",
        "    for x, y in tqdm(data_loader):\n",
        "        print(x.shape, y.shape)\n",
        "        x, y = x.to(device), y.to(device)\n",
        "        y = y.squeeze()\n",
        "        output = model(x)\n",
        "        loss = loss_fn(output, y)\n",
        "        total_loss += loss.item()\n",
        "        total_correct += (output.argmax(dim=1) == y).sum().item()\n",
        "\n",
        "    return total_loss / len(data_loader), total_correct / len(data_loader.dataset)"
      ],
      "metadata": {
        "id": "Sn6aUDIiv16T"
      },
      "execution_count": 15,
      "outputs": []
    },
    {
      "cell_type": "code",
      "source": [
        "from IPython.display import clear_output\n",
        "\n",
        "\n",
        "def fit(model, train_loader, valid_loader, optimizer, loss_fn, device, num_epochs, title):\n",
        "    train_loss_history, valid_loss_history = [], []\n",
        "    train_accuracy_history, valid_accuracy_history = [], []\n",
        "    best_accuracy = float('inf')\n",
        "    best_model_path = \"checkpoints/best_model.pt\"\n",
        "    best_optimizer_path = \"checkpoints/best_optimizer.pt\"\n",
        "\n",
        "    for epoch in range(num_epochs):\n",
        "        train_loss, train_accuracy = train(model, train_loader, optimizer, loss_fn, device)\n",
        "        valid_loss, valid_accuracy = evaluate(model, valid_loader, loss_fn, device)\n",
        "\n",
        "        train_loss_history.append(train_loss)\n",
        "        valid_loss_history.append(valid_loss)\n",
        "\n",
        "        train_accuracy_history.append(train_accuracy)\n",
        "        valid_accuracy_history.append(valid_accuracy)\n",
        "\n",
        "        clear_output()\n",
        "        print(train_accuracy_history)\n",
        "        if train_accuracy < best_accuracy:\n",
        "            best_accuracy = train_accuracy\n",
        "            torch.save(model.state_dict(), best_model_path)\n",
        "            torch.save(optimizer.state_dict(), best_optimizer_path)"
      ],
      "metadata": {
        "id": "u8MPFInXv1_c"
      },
      "execution_count": 16,
      "outputs": []
    },
    {
      "cell_type": "code",
      "source": [
        "from torchvision.models import resnet18\n",
        "from torchvision.models import ResNet18_Weights"
      ],
      "metadata": {
        "id": "2IIcGaubv2CX"
      },
      "execution_count": 17,
      "outputs": []
    },
    {
      "cell_type": "code",
      "source": [
        "! pip install Adam\n",
        "from torch.optim import Adam"
      ],
      "metadata": {
        "colab": {
          "base_uri": "https://localhost:8080/"
        },
        "id": "WiU5Xc8R4tzH",
        "outputId": "07e4e5d1-2855-423f-82ab-04e581b08605"
      },
      "execution_count": 18,
      "outputs": [
        {
          "output_type": "stream",
          "name": "stdout",
          "text": [
            "Requirement already satisfied: Adam in /usr/local/lib/python3.10/dist-packages (0.0.0.dev0)\n"
          ]
        }
      ]
    },
    {
      "cell_type": "code",
      "source": [
        "device = torch.device(\"cuda:0\")\n",
        "device"
      ],
      "metadata": {
        "id": "2ioZzR7ev2Hm",
        "colab": {
          "base_uri": "https://localhost:8080/"
        },
        "outputId": "f2b3cb34-72a3-4713-bc4f-391c5a8f26a1"
      },
      "execution_count": 20,
      "outputs": [
        {
          "output_type": "execute_result",
          "data": {
            "text/plain": [
              "device(type='cuda', index=0)"
            ]
          },
          "metadata": {},
          "execution_count": 20
        }
      ]
    },
    {
      "cell_type": "code",
      "source": [
        "import torch\n",
        "import torch.nn as nn\n",
        "from torchvision.models import resnet18\n",
        "\n",
        "class CustomResNet(nn.Module):\n",
        "    def __init__(self, ):\n",
        "        super(CustomResNet, self).__init__()\n",
        "        self.pre_conv = nn.Conv2d(\n",
        "            in_channels=1,\n",
        "            out_channels=3,\n",
        "            kernel_size=3,\n",
        "            stride=1,\n",
        "            padding=1,\n",
        "            bias=False\n",
        "        )\n",
        "        self.resnet = resnet18(weights=ResNet18_Weights.IMAGENET1K_V1)\n",
        "        self.resnet = self.resnet.to(device)\n",
        "        self.resnet.requires_grad_(False)\n",
        "        self.resnet.layer4.requires_grad_(True)\n",
        "        self.resnet.fc.requires_grad_(True)\n",
        "\n",
        "    def forward(self, x):\n",
        "        x = self.pre_conv(x)\n",
        "        x = self.resnet(x)\n",
        "        return x\n",
        "\n",
        "model = CustomResNet()"
      ],
      "metadata": {
        "id": "qys3ex-aFjtJ"
      },
      "execution_count": 21,
      "outputs": []
    },
    {
      "cell_type": "code",
      "source": [
        "model"
      ],
      "metadata": {
        "colab": {
          "base_uri": "https://localhost:8080/"
        },
        "id": "2vpBZhHTExmx",
        "outputId": "acbd9c47-b22e-40a3-f3df-e6fa14aeae10"
      },
      "execution_count": null,
      "outputs": [
        {
          "output_type": "execute_result",
          "data": {
            "text/plain": [
              "CustomResNet(\n",
              "  (pre_conv): Conv2d(1, 3, kernel_size=(3, 3), stride=(1, 1), padding=(1, 1), bias=False)\n",
              "  (resnet): ResNet(\n",
              "    (conv1): Conv2d(3, 64, kernel_size=(7, 7), stride=(2, 2), padding=(3, 3), bias=False)\n",
              "    (bn1): BatchNorm2d(64, eps=1e-05, momentum=0.1, affine=True, track_running_stats=True)\n",
              "    (relu): ReLU(inplace=True)\n",
              "    (maxpool): MaxPool2d(kernel_size=3, stride=2, padding=1, dilation=1, ceil_mode=False)\n",
              "    (layer1): Sequential(\n",
              "      (0): BasicBlock(\n",
              "        (conv1): Conv2d(64, 64, kernel_size=(3, 3), stride=(1, 1), padding=(1, 1), bias=False)\n",
              "        (bn1): BatchNorm2d(64, eps=1e-05, momentum=0.1, affine=True, track_running_stats=True)\n",
              "        (relu): ReLU(inplace=True)\n",
              "        (conv2): Conv2d(64, 64, kernel_size=(3, 3), stride=(1, 1), padding=(1, 1), bias=False)\n",
              "        (bn2): BatchNorm2d(64, eps=1e-05, momentum=0.1, affine=True, track_running_stats=True)\n",
              "      )\n",
              "      (1): BasicBlock(\n",
              "        (conv1): Conv2d(64, 64, kernel_size=(3, 3), stride=(1, 1), padding=(1, 1), bias=False)\n",
              "        (bn1): BatchNorm2d(64, eps=1e-05, momentum=0.1, affine=True, track_running_stats=True)\n",
              "        (relu): ReLU(inplace=True)\n",
              "        (conv2): Conv2d(64, 64, kernel_size=(3, 3), stride=(1, 1), padding=(1, 1), bias=False)\n",
              "        (bn2): BatchNorm2d(64, eps=1e-05, momentum=0.1, affine=True, track_running_stats=True)\n",
              "      )\n",
              "    )\n",
              "    (layer2): Sequential(\n",
              "      (0): BasicBlock(\n",
              "        (conv1): Conv2d(64, 128, kernel_size=(3, 3), stride=(2, 2), padding=(1, 1), bias=False)\n",
              "        (bn1): BatchNorm2d(128, eps=1e-05, momentum=0.1, affine=True, track_running_stats=True)\n",
              "        (relu): ReLU(inplace=True)\n",
              "        (conv2): Conv2d(128, 128, kernel_size=(3, 3), stride=(1, 1), padding=(1, 1), bias=False)\n",
              "        (bn2): BatchNorm2d(128, eps=1e-05, momentum=0.1, affine=True, track_running_stats=True)\n",
              "        (downsample): Sequential(\n",
              "          (0): Conv2d(64, 128, kernel_size=(1, 1), stride=(2, 2), bias=False)\n",
              "          (1): BatchNorm2d(128, eps=1e-05, momentum=0.1, affine=True, track_running_stats=True)\n",
              "        )\n",
              "      )\n",
              "      (1): BasicBlock(\n",
              "        (conv1): Conv2d(128, 128, kernel_size=(3, 3), stride=(1, 1), padding=(1, 1), bias=False)\n",
              "        (bn1): BatchNorm2d(128, eps=1e-05, momentum=0.1, affine=True, track_running_stats=True)\n",
              "        (relu): ReLU(inplace=True)\n",
              "        (conv2): Conv2d(128, 128, kernel_size=(3, 3), stride=(1, 1), padding=(1, 1), bias=False)\n",
              "        (bn2): BatchNorm2d(128, eps=1e-05, momentum=0.1, affine=True, track_running_stats=True)\n",
              "      )\n",
              "    )\n",
              "    (layer3): Sequential(\n",
              "      (0): BasicBlock(\n",
              "        (conv1): Conv2d(128, 256, kernel_size=(3, 3), stride=(2, 2), padding=(1, 1), bias=False)\n",
              "        (bn1): BatchNorm2d(256, eps=1e-05, momentum=0.1, affine=True, track_running_stats=True)\n",
              "        (relu): ReLU(inplace=True)\n",
              "        (conv2): Conv2d(256, 256, kernel_size=(3, 3), stride=(1, 1), padding=(1, 1), bias=False)\n",
              "        (bn2): BatchNorm2d(256, eps=1e-05, momentum=0.1, affine=True, track_running_stats=True)\n",
              "        (downsample): Sequential(\n",
              "          (0): Conv2d(128, 256, kernel_size=(1, 1), stride=(2, 2), bias=False)\n",
              "          (1): BatchNorm2d(256, eps=1e-05, momentum=0.1, affine=True, track_running_stats=True)\n",
              "        )\n",
              "      )\n",
              "      (1): BasicBlock(\n",
              "        (conv1): Conv2d(256, 256, kernel_size=(3, 3), stride=(1, 1), padding=(1, 1), bias=False)\n",
              "        (bn1): BatchNorm2d(256, eps=1e-05, momentum=0.1, affine=True, track_running_stats=True)\n",
              "        (relu): ReLU(inplace=True)\n",
              "        (conv2): Conv2d(256, 256, kernel_size=(3, 3), stride=(1, 1), padding=(1, 1), bias=False)\n",
              "        (bn2): BatchNorm2d(256, eps=1e-05, momentum=0.1, affine=True, track_running_stats=True)\n",
              "      )\n",
              "    )\n",
              "    (layer4): Sequential(\n",
              "      (0): BasicBlock(\n",
              "        (conv1): Conv2d(256, 512, kernel_size=(3, 3), stride=(2, 2), padding=(1, 1), bias=False)\n",
              "        (bn1): BatchNorm2d(512, eps=1e-05, momentum=0.1, affine=True, track_running_stats=True)\n",
              "        (relu): ReLU(inplace=True)\n",
              "        (conv2): Conv2d(512, 512, kernel_size=(3, 3), stride=(1, 1), padding=(1, 1), bias=False)\n",
              "        (bn2): BatchNorm2d(512, eps=1e-05, momentum=0.1, affine=True, track_running_stats=True)\n",
              "        (downsample): Sequential(\n",
              "          (0): Conv2d(256, 512, kernel_size=(1, 1), stride=(2, 2), bias=False)\n",
              "          (1): BatchNorm2d(512, eps=1e-05, momentum=0.1, affine=True, track_running_stats=True)\n",
              "        )\n",
              "      )\n",
              "      (1): BasicBlock(\n",
              "        (conv1): Conv2d(512, 512, kernel_size=(3, 3), stride=(1, 1), padding=(1, 1), bias=False)\n",
              "        (bn1): BatchNorm2d(512, eps=1e-05, momentum=0.1, affine=True, track_running_stats=True)\n",
              "        (relu): ReLU(inplace=True)\n",
              "        (conv2): Conv2d(512, 512, kernel_size=(3, 3), stride=(1, 1), padding=(1, 1), bias=False)\n",
              "        (bn2): BatchNorm2d(512, eps=1e-05, momentum=0.1, affine=True, track_running_stats=True)\n",
              "      )\n",
              "    )\n",
              "    (avgpool): AdaptiveAvgPool2d(output_size=(1, 1))\n",
              "    (fc): Linear(in_features=512, out_features=1000, bias=True)\n",
              "  )\n",
              ")"
            ]
          },
          "metadata": {},
          "execution_count": 63
        }
      ]
    },
    {
      "cell_type": "code",
      "source": [
        "model = model.to(device)\n",
        "\n",
        "optimizer = Adam(\n",
        "    [\n",
        "        {'params': model.resnet.fc.parameters(), 'lr': 1e-3},\n",
        "        {'params': model.resnet.layer4.parameters(), 'lr': 1e-4}\n",
        "    ]\n",
        ")\n",
        "loss_fn = nn.CrossEntropyLoss()\n",
        "fit(\n",
        "    model,\n",
        "    train_loader, valid_loader,\n",
        "    optimizer, loss_fn, device, 10, 'ResNet18 pretrained'\n",
        ")"
      ],
      "metadata": {
        "colab": {
          "base_uri": "https://localhost:8080/"
        },
        "id": "_NkZKfXmv2J4",
        "outputId": "ec101e43-0618-4ca3-e242-c572aebf8632"
      },
      "execution_count": null,
      "outputs": [
        {
          "output_type": "stream",
          "name": "stdout",
          "text": [
            "[0.9811458333333334, 0.9849166666666667, 0.9886875, 0.988875, 0.9907083333333333, 0.99175, 0.9924583333333333, 0.9936875, 0.9929166666666667, 0.9937708333333334] [0.96675, 0.9668333333333333, 0.9671666666666666, 0.9670833333333333, 0.9705, 0.97075, 0.9718333333333333, 0.974, 0.9705, 0.9728333333333333]\n"
          ]
        }
      ]
    },
    {
      "cell_type": "code",
      "source": [
        "model = CustomResNet()\n",
        "model.load_state_dict(torch.load(\"checkpoints/best_model.pt\"))"
      ],
      "metadata": {
        "id": "iLONB_cNv2Me",
        "colab": {
          "base_uri": "https://localhost:8080/"
        },
        "outputId": "0b8e091c-4e87-4539-f1b4-eef4c87f05cf"
      },
      "execution_count": 30,
      "outputs": [
        {
          "output_type": "stream",
          "name": "stderr",
          "text": [
            "<ipython-input-30-f4bf898a8a5e>:2: FutureWarning: You are using `torch.load` with `weights_only=False` (the current default value), which uses the default pickle module implicitly. It is possible to construct malicious pickle data which will execute arbitrary code during unpickling (See https://github.com/pytorch/pytorch/blob/main/SECURITY.md#untrusted-models for more details). In a future release, the default value for `weights_only` will be flipped to `True`. This limits the functions that could be executed during unpickling. Arbitrary objects will no longer be allowed to be loaded via this mode unless they are explicitly allowlisted by the user via `torch.serialization.add_safe_globals`. We recommend you start setting `weights_only=True` for any use case where you don't have full control of the loaded file. Please open an issue on GitHub for any issues related to this experimental feature.\n",
            "  model.load_state_dict(torch.load(\"checkpoints/best_model.pt\"))\n"
          ]
        },
        {
          "output_type": "execute_result",
          "data": {
            "text/plain": [
              "<All keys matched successfully>"
            ]
          },
          "metadata": {},
          "execution_count": 30
        }
      ]
    },
    {
      "cell_type": "code",
      "source": [
        "import torch\n",
        "import numpy as np\n",
        "\n",
        "import torchvision.transforms.v2 as T\n",
        "import matplotlib.pyplot as plt"
      ],
      "metadata": {
        "id": "bK_ux3oJhtyo"
      },
      "execution_count": 2,
      "outputs": []
    },
    {
      "cell_type": "code",
      "source": [
        "torch.cuda.is_available()"
      ],
      "metadata": {
        "colab": {
          "base_uri": "https://localhost:8080/"
        },
        "id": "EuGBIhZqh0eY",
        "outputId": "c91372e4-05a2-49b3-929b-19fea94ffafc"
      },
      "execution_count": 3,
      "outputs": [
        {
          "output_type": "execute_result",
          "data": {
            "text/plain": [
              "True"
            ]
          },
          "metadata": {},
          "execution_count": 3
        }
      ]
    },
    {
      "cell_type": "code",
      "source": [
        "TRAIN_DATA_FILE = 'emnist-byclass-train.npz'\n",
        "TEST_DATA_FILE = 'emnist-byclass-test.npz'\n",
        "data = np.load(TRAIN_DATA_FILE)\n",
        "train_labels = data['training_labels']\n",
        "train_images = data['training_images']\n",
        "import matplotlib.pyplot as plt\n",
        "fig,axes = plt.subplots(3,5,figsize=(10,8))\n",
        "for i,ax in enumerate(axes.flat):\n",
        "    ax.imshow(train_images[i].reshape([28,28]))"
      ],
      "metadata": {
        "id": "xZ6cBgljv2O8",
        "colab": {
          "base_uri": "https://localhost:8080/",
          "height": 632
        },
        "outputId": "fb402230-d5ff-4875-efa4-6ddc9a5f9be8"
      },
      "execution_count": 4,
      "outputs": [
        {
          "output_type": "display_data",
          "data": {
            "text/plain": [
              "<Figure size 1000x800 with 15 Axes>"
            ],
            "image/png": "[encoded data removed]"
          },
          "metadata": {}
        }
      ]
    },
    {
      "cell_type": "code",
      "source": [
        "train_labels"
      ],
      "metadata": {
        "id": "EWCT0IGqv2UV",
        "colab": {
          "base_uri": "https://localhost:8080/"
        },
        "outputId": "f9723bf1-f9da-4922-aa3d-504e52684f0b"
      },
      "execution_count": 5,
      "outputs": [
        {
          "output_type": "execute_result",
          "data": {
            "text/plain": [
              "array([ 8, 20, 39, ...,  8,  9,  8], dtype=uint8)"
            ]
          },
          "metadata": {},
          "execution_count": 5
        }
      ]
    },
    {
      "cell_type": "code",
      "source": [
        "train_images = torch.tensor(train_images)\n",
        "train_images.data = train_images.data.unsqueeze(1)\n",
        "train_images.data.shape"
      ],
      "metadata": {
        "id": "Cl6C_12Jv2WY",
        "colab": {
          "base_uri": "https://localhost:8080/"
        },
        "outputId": "8a3b9b1a-c715-4a2f-8a9e-feb40082cac1"
      },
      "execution_count": 6,
      "outputs": [
        {
          "output_type": "execute_result",
          "data": {
            "text/plain": [
              "torch.Size([697932, 1, 28, 28])"
            ]
          },
          "metadata": {},
          "execution_count": 6
        }
      ]
    },
    {
      "cell_type": "code",
      "source": [
        "data.files\n"
      ],
      "metadata": {
        "colab": {
          "base_uri": "https://localhost:8080/"
        },
        "id": "SKMatbWnEoOb",
        "outputId": "640ec0ce-a910-4432-fd2e-503e2708ae1a"
      },
      "execution_count": 36,
      "outputs": [
        {
          "output_type": "execute_result",
          "data": {
            "text/plain": [
              "['testing_images']"
            ]
          },
          "metadata": {},
          "execution_count": 36
        }
      ]
    },
    {
      "cell_type": "code",
      "source": [
        "TEST_DATA_FILE = 'emnist-byclass-test.npz'\n",
        "data = np.load(TEST_DATA_FILE)\n",
        "test_images = data['testing_images']"
      ],
      "metadata": {
        "id": "6shoFFCoEWtQ"
      },
      "execution_count": 37,
      "outputs": []
    },
    {
      "cell_type": "code",
      "source": [
        "test = torch.tensor(test_images)"
      ],
      "metadata": {
        "id": "CigdmHigG42v"
      },
      "execution_count": 43,
      "outputs": []
    },
    {
      "cell_type": "code",
      "source": [
        "test = test.data.unsqueeze(1)"
      ],
      "metadata": {
        "id": "ORS6a-aZG7RI"
      },
      "execution_count": 48,
      "outputs": []
    },
    {
      "cell_type": "code",
      "source": [
        "test.shape"
      ],
      "metadata": {
        "colab": {
          "base_uri": "https://localhost:8080/"
        },
        "id": "3vy8ihfcHCe0",
        "outputId": "4e53535f-bc19-4531-eec8-f689cd1d056d"
      },
      "execution_count": 49,
      "outputs": [
        {
          "output_type": "execute_result",
          "data": {
            "text/plain": [
              "torch.Size([116323, 1, 28, 28])"
            ]
          },
          "metadata": {},
          "execution_count": 49
        }
      ]
    },
    {
      "cell_type": "code",
      "source": [
        "normalize_test_images = normalize(torch.tensor(test_images).data.to(torch.float32) / 255)"
      ],
      "metadata": {
        "id": "H98XIOliFIlb"
      },
      "execution_count": 50,
      "outputs": []
    },
    {
      "cell_type": "code",
      "source": [
        "mean = train_images.data.to(torch.float32).mean().item() / 255\n",
        "std = train_images.data.to(torch.float32).std().item() / 255\n",
        "normalize = T.Normalize(mean=(mean,), std=(std,))\n",
        "normalize_train_images = normalize(train_images.data.to(torch.float32) / 255)"
      ],
      "metadata": {
        "id": "ZWMSRhZ2v2b1"
      },
      "execution_count": 7,
      "outputs": []
    },
    {
      "cell_type": "code",
      "source": [
        "from sklearn.model_selection import train_test_split\n",
        "X_train, X_val, y_train, y_val = train_test_split(normalize_train_images, train_labels, test_size=0.001, shuffle=True)"
      ],
      "metadata": {
        "id": "nVNjPwQfv2eK"
      },
      "execution_count": 8,
      "outputs": []
    },
    {
      "cell_type": "code",
      "source": [
        "from torch.utils.data import TensorDataset\n",
        "X_train_tensor = torch.tensor(X_train, dtype=torch.float32)\n",
        "y_train_tensor = torch.tensor(y_train, dtype=torch.long)\n",
        "X_val_tensor = torch.tensor(X_val, dtype=torch.float32)\n",
        "y_val_tensor = torch.tensor(y_val, dtype=torch.long)\n",
        "train_dataset = TensorDataset(X_train_tensor, y_train_tensor)\n",
        "valid_dataset = TensorDataset(X_val_tensor, y_val_tensor)"
      ],
      "metadata": {
        "id": "RWdvblxhv2gw",
        "colab": {
          "base_uri": "https://localhost:8080/"
        },
        "outputId": "6c445d37-a3e2-430e-fa3f-a04a47e13cb5"
      },
      "execution_count": 9,
      "outputs": [
        {
          "output_type": "stream",
          "name": "stderr",
          "text": [
            "<ipython-input-9-653e0577d639>:2: UserWarning: To copy construct from a tensor, it is recommended to use sourceTensor.clone().detach() or sourceTensor.clone().detach().requires_grad_(True), rather than torch.tensor(sourceTensor).\n",
            "  X_train_tensor = torch.tensor(X_train, dtype=torch.float32)\n",
            "<ipython-input-9-653e0577d639>:4: UserWarning: To copy construct from a tensor, it is recommended to use sourceTensor.clone().detach() or sourceTensor.clone().detach().requires_grad_(True), rather than torch.tensor(sourceTensor).\n",
            "  X_val_tensor = torch.tensor(X_val, dtype=torch.float32)\n"
          ]
        }
      ]
    },
    {
      "cell_type": "code",
      "source": [
        "from torch.utils.data import DataLoader\n",
        "\n",
        "\n",
        "train_loader = DataLoader(train_dataset, batch_size=64, shuffle=True, num_workers=8, pin_memory=True)\n",
        "valid_loader = DataLoader(valid_dataset, batch_size=64, shuffle=False, num_workers=8, pin_memory=True)"
      ],
      "metadata": {
        "id": "wSBdTsORv2jC"
      },
      "execution_count": 11,
      "outputs": []
    },
    {
      "cell_type": "code",
      "source": [
        "model = CustomResNet()\n",
        "model.load_state_dict(torch.load(\"checkpoints/best_model.pt\"))"
      ],
      "metadata": {
        "colab": {
          "base_uri": "https://localhost:8080/"
        },
        "id": "OT9kSXkHi3nR",
        "outputId": "4d272b4b-cb6f-4902-a375-1839e1ab9aa1"
      },
      "execution_count": 22,
      "outputs": [
        {
          "output_type": "stream",
          "name": "stderr",
          "text": [
            "<ipython-input-22-f4bf898a8a5e>:2: FutureWarning: You are using `torch.load` with `weights_only=False` (the current default value), which uses the default pickle module implicitly. It is possible to construct malicious pickle data which will execute arbitrary code during unpickling (See https://github.com/pytorch/pytorch/blob/main/SECURITY.md#untrusted-models for more details). In a future release, the default value for `weights_only` will be flipped to `True`. This limits the functions that could be executed during unpickling. Arbitrary objects will no longer be allowed to be loaded via this mode unless they are explicitly allowlisted by the user via `torch.serialization.add_safe_globals`. We recommend you start setting `weights_only=True` for any use case where you don't have full control of the loaded file. Please open an issue on GitHub for any issues related to this experimental feature.\n",
            "  model.load_state_dict(torch.load(\"checkpoints/best_model.pt\"))\n"
          ]
        },
        {
          "output_type": "execute_result",
          "data": {
            "text/plain": [
              "<All keys matched successfully>"
            ]
          },
          "metadata": {},
          "execution_count": 22
        }
      ]
    },
    {
      "cell_type": "code",
      "source": [
        "device = torch.device(\"cuda:0\")\n",
        "model = model.to(device)\n",
        "device = next(model.parameters()).device\n",
        "print(\"Model is on:\", device)"
      ],
      "metadata": {
        "colab": {
          "base_uri": "https://localhost:8080/"
        },
        "id": "e2ZBskODjWaG",
        "outputId": "410b5f1a-2362-416f-940d-1c54ba41f65a"
      },
      "execution_count": 23,
      "outputs": [
        {
          "output_type": "stream",
          "name": "stdout",
          "text": [
            "Model is on: cuda:0\n"
          ]
        }
      ]
    },
    {
      "cell_type": "code",
      "source": [
        "model = model.to(device)\n",
        "\n",
        "optimizer = Adam(\n",
        "    [\n",
        "        {'params': model.resnet.fc.parameters(), 'lr': 1e-3},\n",
        "        {'params': model.resnet.layer4.parameters(), 'lr': 1e-4}\n",
        "    ]\n",
        ")\n",
        "loss_fn = nn.CrossEntropyLoss()\n",
        "fit(\n",
        "    model,\n",
        "    train_loader, valid_loader,\n",
        "    optimizer, loss_fn, device, 10, 'ResNet18 pretrained'\n",
        ")"
      ],
      "metadata": {
        "id": "X3yST8Lxv2ZS",
        "colab": {
          "base_uri": "https://localhost:8080/"
        },
        "outputId": "1616f340-1be2-43f8-815f-03bf67a3a5fe"
      },
      "execution_count": 31,
      "outputs": [
        {
          "output_type": "stream",
          "name": "stdout",
          "text": [
            "[0.843860167461713, 0.8503945590719901, 0.8549052398477412, 0.8591792712346213, 0.8622915692579536, 0.8650252282590923, 0.8682508311413385, 0.8700637088839615, 0.8719913257242189, 0.8738271512863687]\n"
          ]
        }
      ]
    },
    {
      "cell_type": "code",
      "source": [
        "import pandas as pd\n",
        "import torch\n",
        "from torch.utils.data import DataLoader\n",
        "from tqdm import tqdm\n",
        "\n",
        "test_loader = DataLoader(normalize_test_images)\n",
        "ids = []\n",
        "predictions = []\n",
        "model.eval()\n",
        "\n",
        "\n",
        "with torch.no_grad():\n",
        "    for index, x in tqdm(enumerate(test_loader), total=len(test_loader)):\n",
        "        x = x.to(device)\n",
        "        x = x.unsqueeze(0)\n",
        "        output = model(x)\n",
        "        batch_size = x.size(0)\n",
        "        current_ids = list(range(index * test_loader.batch_size, index * test_loader.batch_size + batch_size))\n",
        "        predictions.extend(output.argmax(dim=1).cpu().numpy())\n",
        "        ids.extend(current_ids)\n",
        "results_df = pd.DataFrame({\n",
        "    'Id': ids,\n",
        "    'Category': predictions\n",
        "})\n",
        "results_df.to_csv('predictions.csv', index=False)\n",
        "\n",
        "print(\"Results saved to predictions.csv\")\n"
      ],
      "metadata": {
        "id": "80iLVR_Sv2lq",
        "colab": {
          "base_uri": "https://localhost:8080/"
        },
        "outputId": "fa839eee-addb-40ba-9253-b9ae603fce0c"
      },
      "execution_count": 55,
      "outputs": [
        {
          "output_type": "stream",
          "name": "stderr",
          "text": [
            "100%|██████████| 116323/116323 [06:13<00:00, 311.11it/s]\n"
          ]
        },
        {
          "output_type": "stream",
          "name": "stdout",
          "text": [
            "Results saved to predictions.csv\n"
          ]
        }
      ]
    }
  ],
  "metadata": {
    "colab": {
      "provenance": []
    },
    "kernelspec": {
      "display_name": "Python [conda env:tf115]",
      "language": "python",
      "name": "conda-env-tf115-py"
    },
    "language_info": {
      "codemirror_mode": {
        "name": "ipython",
        "version": 3
      },
      "file_extension": ".py",
      "mimetype": "text/x-python",
      "name": "python",
      "nbconvert_exporter": "python",
      "pygments_lexer": "ipython3",
      "version": "3.7.10"
    }
  },
  "nbformat": 4,
  "nbformat_minor": 0
}